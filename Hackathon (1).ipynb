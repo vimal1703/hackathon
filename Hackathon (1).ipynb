{
 "cells": [
  {
   "cell_type": "markdown",
   "id": "02bdb5c4",
   "metadata": {},
   "source": [
    "# Required Libraries"
   ]
  },
  {
   "cell_type": "code",
   "execution_count": 1,
   "id": "b61accae",
   "metadata": {},
   "outputs": [],
   "source": [
    "import warnings\n",
    "warnings.filterwarnings('ignore')\n",
    "from sklearn.neighbors import KNeighborsClassifier\n",
    "import pandas as pd\n",
    "import seaborn as sns\n",
    "from sklearn.model_selection import train_test_split\n",
    "from sklearn.linear_model import LinearRegression\n",
    "from sklearn.preprocessing import StandardScaler\n",
    "from sklearn.linear_model import LogisticRegression\n",
    "from sklearn import preprocessing\n",
    "from sklearn import utils\n",
    "\n",
    "from sklearn.preprocessing import MinMaxScaler"
   ]
  },
  {
   "cell_type": "markdown",
   "id": "3b2e550a",
   "metadata": {},
   "source": [
    "## step1"
   ]
  },
  {
   "cell_type": "markdown",
   "id": "ba9e04fc",
   "metadata": {},
   "source": [
    "# Read Dataset"
   ]
  },
  {
   "cell_type": "code",
   "execution_count": 2,
   "id": "f956db48",
   "metadata": {},
   "outputs": [],
   "source": [
    "df = pd.read_csv('dataframe_.csv')"
   ]
  },
  {
   "cell_type": "markdown",
   "id": "0639208d",
   "metadata": {},
   "source": [
    "# step2 "
   ]
  },
  {
   "cell_type": "markdown",
   "id": "9edddd5b",
   "metadata": {},
   "source": [
    "# EDA"
   ]
  },
  {
   "cell_type": "code",
   "execution_count": 3,
   "id": "74132abb",
   "metadata": {},
   "outputs": [
    {
     "data": {
      "text/html": [
       "<div>\n",
       "<style scoped>\n",
       "    .dataframe tbody tr th:only-of-type {\n",
       "        vertical-align: middle;\n",
       "    }\n",
       "\n",
       "    .dataframe tbody tr th {\n",
       "        vertical-align: top;\n",
       "    }\n",
       "\n",
       "    .dataframe thead th {\n",
       "        text-align: right;\n",
       "    }\n",
       "</style>\n",
       "<table border=\"1\" class=\"dataframe\">\n",
       "  <thead>\n",
       "    <tr style=\"text-align: right;\">\n",
       "      <th></th>\n",
       "      <th>input</th>\n",
       "      <th>output</th>\n",
       "    </tr>\n",
       "  </thead>\n",
       "  <tbody>\n",
       "    <tr>\n",
       "      <th>0</th>\n",
       "      <td>-122.740667</td>\n",
       "      <td>-130.572085</td>\n",
       "    </tr>\n",
       "    <tr>\n",
       "      <th>1</th>\n",
       "      <td>-121.531419</td>\n",
       "      <td>-129.938929</td>\n",
       "    </tr>\n",
       "    <tr>\n",
       "      <th>2</th>\n",
       "      <td>-134.917019</td>\n",
       "      <td>-130.141832</td>\n",
       "    </tr>\n",
       "    <tr>\n",
       "      <th>3</th>\n",
       "      <td>-120.605951</td>\n",
       "      <td>-125.760932</td>\n",
       "    </tr>\n",
       "    <tr>\n",
       "      <th>4</th>\n",
       "      <td>-129.894781</td>\n",
       "      <td>-112.785214</td>\n",
       "    </tr>\n",
       "  </tbody>\n",
       "</table>\n",
       "</div>"
      ],
      "text/plain": [
       "        input      output\n",
       "0 -122.740667 -130.572085\n",
       "1 -121.531419 -129.938929\n",
       "2 -134.917019 -130.141832\n",
       "3 -120.605951 -125.760932\n",
       "4 -129.894781 -112.785214"
      ]
     },
     "execution_count": 3,
     "metadata": {},
     "output_type": "execute_result"
    }
   ],
   "source": [
    "df.head()"
   ]
  },
  {
   "cell_type": "code",
   "execution_count": 4,
   "id": "323e88e9",
   "metadata": {},
   "outputs": [
    {
     "data": {
      "text/html": [
       "<div>\n",
       "<style scoped>\n",
       "    .dataframe tbody tr th:only-of-type {\n",
       "        vertical-align: middle;\n",
       "    }\n",
       "\n",
       "    .dataframe tbody tr th {\n",
       "        vertical-align: top;\n",
       "    }\n",
       "\n",
       "    .dataframe thead th {\n",
       "        text-align: right;\n",
       "    }\n",
       "</style>\n",
       "<table border=\"1\" class=\"dataframe\">\n",
       "  <thead>\n",
       "    <tr style=\"text-align: right;\">\n",
       "      <th></th>\n",
       "      <th>input</th>\n",
       "      <th>output</th>\n",
       "    </tr>\n",
       "  </thead>\n",
       "  <tbody>\n",
       "    <tr>\n",
       "      <th>1692</th>\n",
       "      <td>25.410184</td>\n",
       "      <td>-76.380902</td>\n",
       "    </tr>\n",
       "    <tr>\n",
       "      <th>1693</th>\n",
       "      <td>29.537304</td>\n",
       "      <td>-82.796934</td>\n",
       "    </tr>\n",
       "    <tr>\n",
       "      <th>1694</th>\n",
       "      <td>31.633331</td>\n",
       "      <td>-87.000000</td>\n",
       "    </tr>\n",
       "    <tr>\n",
       "      <th>1695</th>\n",
       "      <td>29.091458</td>\n",
       "      <td>-104.943052</td>\n",
       "    </tr>\n",
       "    <tr>\n",
       "      <th>1696</th>\n",
       "      <td>17.145296</td>\n",
       "      <td>-101.726894</td>\n",
       "    </tr>\n",
       "  </tbody>\n",
       "</table>\n",
       "</div>"
      ],
      "text/plain": [
       "          input      output\n",
       "1692  25.410184  -76.380902\n",
       "1693  29.537304  -82.796934\n",
       "1694  31.633331  -87.000000\n",
       "1695  29.091458 -104.943052\n",
       "1696  17.145296 -101.726894"
      ]
     },
     "execution_count": 4,
     "metadata": {},
     "output_type": "execute_result"
    }
   ],
   "source": [
    "df.tail()"
   ]
  },
  {
   "cell_type": "code",
   "execution_count": 5,
   "id": "f2f60931",
   "metadata": {},
   "outputs": [
    {
     "name": "stdout",
     "output_type": "stream",
     "text": [
      "<class 'pandas.core.frame.DataFrame'>\n",
      "RangeIndex: 1697 entries, 0 to 1696\n",
      "Data columns (total 2 columns):\n",
      " #   Column  Non-Null Count  Dtype  \n",
      "---  ------  --------------  -----  \n",
      " 0   input   1696 non-null   float64\n",
      " 1   output  1696 non-null   float64\n",
      "dtypes: float64(2)\n",
      "memory usage: 26.6 KB\n"
     ]
    }
   ],
   "source": [
    "df.info()"
   ]
  },
  {
   "cell_type": "code",
   "execution_count": 6,
   "id": "4f8326b9",
   "metadata": {},
   "outputs": [
    {
     "data": {
      "text/plain": [
       "input     float64\n",
       "output    float64\n",
       "dtype: object"
      ]
     },
     "execution_count": 6,
     "metadata": {},
     "output_type": "execute_result"
    }
   ],
   "source": [
    "df.dtypes"
   ]
  },
  {
   "cell_type": "code",
   "execution_count": 7,
   "id": "1655d649",
   "metadata": {},
   "outputs": [
    {
     "name": "stdout",
     "output_type": "stream",
     "text": [
      "No. of rows: 1697\n",
      "No. of columns: 2\n"
     ]
    }
   ],
   "source": [
    "print('No. of rows:',df.shape[0])\n",
    "print('No. of columns:',df.shape[1])"
   ]
  },
  {
   "cell_type": "code",
   "execution_count": 8,
   "id": "ccd15766",
   "metadata": {},
   "outputs": [
    {
     "name": "stdout",
     "output_type": "stream",
     "text": [
      "Size of the dataframe: 3394\n"
     ]
    }
   ],
   "source": [
    "print('Size of the dataframe:',df.size)"
   ]
  },
  {
   "cell_type": "code",
   "execution_count": 9,
   "id": "91f7f35f",
   "metadata": {},
   "outputs": [
    {
     "data": {
      "text/html": [
       "<div>\n",
       "<style scoped>\n",
       "    .dataframe tbody tr th:only-of-type {\n",
       "        vertical-align: middle;\n",
       "    }\n",
       "\n",
       "    .dataframe tbody tr th {\n",
       "        vertical-align: top;\n",
       "    }\n",
       "\n",
       "    .dataframe thead th {\n",
       "        text-align: right;\n",
       "    }\n",
       "</style>\n",
       "<table border=\"1\" class=\"dataframe\">\n",
       "  <thead>\n",
       "    <tr style=\"text-align: right;\">\n",
       "      <th></th>\n",
       "      <th>input</th>\n",
       "      <th>output</th>\n",
       "    </tr>\n",
       "  </thead>\n",
       "  <tbody>\n",
       "    <tr>\n",
       "      <th>count</th>\n",
       "      <td>1696.000000</td>\n",
       "      <td>1696.000000</td>\n",
       "    </tr>\n",
       "    <tr>\n",
       "      <th>mean</th>\n",
       "      <td>1.159933</td>\n",
       "      <td>-34.088017</td>\n",
       "    </tr>\n",
       "    <tr>\n",
       "      <th>std</th>\n",
       "      <td>79.005970</td>\n",
       "      <td>65.771112</td>\n",
       "    </tr>\n",
       "    <tr>\n",
       "      <th>min</th>\n",
       "      <td>-134.962839</td>\n",
       "      <td>-132.422167</td>\n",
       "    </tr>\n",
       "    <tr>\n",
       "      <th>25%</th>\n",
       "      <td>-63.386506</td>\n",
       "      <td>-80.026767</td>\n",
       "    </tr>\n",
       "    <tr>\n",
       "      <th>50%</th>\n",
       "      <td>10.195194</td>\n",
       "      <td>-50.470981</td>\n",
       "    </tr>\n",
       "    <tr>\n",
       "      <th>75%</th>\n",
       "      <td>70.264109</td>\n",
       "      <td>-11.000000</td>\n",
       "    </tr>\n",
       "    <tr>\n",
       "      <th>max</th>\n",
       "      <td>134.605775</td>\n",
       "      <td>134.425495</td>\n",
       "    </tr>\n",
       "  </tbody>\n",
       "</table>\n",
       "</div>"
      ],
      "text/plain": [
       "             input       output\n",
       "count  1696.000000  1696.000000\n",
       "mean      1.159933   -34.088017\n",
       "std      79.005970    65.771112\n",
       "min    -134.962839  -132.422167\n",
       "25%     -63.386506   -80.026767\n",
       "50%      10.195194   -50.470981\n",
       "75%      70.264109   -11.000000\n",
       "max     134.605775   134.425495"
      ]
     },
     "execution_count": 9,
     "metadata": {},
     "output_type": "execute_result"
    }
   ],
   "source": [
    "df.describe()"
   ]
  },
  {
   "cell_type": "code",
   "execution_count": 10,
   "id": "8bc9cff0",
   "metadata": {},
   "outputs": [
    {
     "data": {
      "text/plain": [
       "Index(['input', 'output'], dtype='object')"
      ]
     },
     "execution_count": 10,
     "metadata": {},
     "output_type": "execute_result"
    }
   ],
   "source": [
    "df.columns"
   ]
  },
  {
   "cell_type": "code",
   "execution_count": 11,
   "id": "0db7bc44",
   "metadata": {},
   "outputs": [
    {
     "data": {
      "text/plain": [
       "input     1\n",
       "output    1\n",
       "dtype: int64"
      ]
     },
     "execution_count": 11,
     "metadata": {},
     "output_type": "execute_result"
    }
   ],
   "source": [
    "df.isnull().sum()"
   ]
  },
  {
   "cell_type": "code",
   "execution_count": 12,
   "id": "bed9f85d",
   "metadata": {},
   "outputs": [],
   "source": [
    "df.dropna(inplace=True)"
   ]
  },
  {
   "cell_type": "code",
   "execution_count": 13,
   "id": "299919d6",
   "metadata": {},
   "outputs": [
    {
     "data": {
      "text/plain": [
       "input     0\n",
       "output    0\n",
       "dtype: int64"
      ]
     },
     "execution_count": 13,
     "metadata": {},
     "output_type": "execute_result"
    }
   ],
   "source": [
    "df.isnull().sum()"
   ]
  },
  {
   "cell_type": "markdown",
   "id": "38577f84",
   "metadata": {},
   "source": [
    "# visualization"
   ]
  },
  {
   "cell_type": "code",
   "execution_count": 14,
   "id": "6cce7573",
   "metadata": {},
   "outputs": [
    {
     "data": {
      "text/plain": [
       "<AxesSubplot:xlabel='input', ylabel='output'>"
      ]
     },
     "execution_count": 14,
     "metadata": {},
     "output_type": "execute_result"
    },
    {
     "data": {
      "image/png": "[encoded data removed]",
      "text/plain": [
       "<Figure size 640x480 with 1 Axes>"
      ]
     },
     "metadata": {},
     "output_type": "display_data"
    }
   ],
   "source": [
    "sns.scatterplot(data=df, x=\"input\", y=\"output\")"
   ]
  },
  {
   "cell_type": "code",
   "execution_count": 15,
   "id": "e10c0053",
   "metadata": {},
   "outputs": [
    {
     "data": {
      "text/plain": [
       "<AxesSubplot:>"
      ]
     },
     "execution_count": 15,
     "metadata": {},
     "output_type": "execute_result"
    },
    {
     "data": {
      "image/png": "[encoded data removed]",
      "text/plain": [
       "<Figure size 640x480 with 1 Axes>"
      ]
     },
     "metadata": {},
     "output_type": "display_data"
    }
   ],
   "source": [
    "sns.lineplot(data=df)"
   ]
  },
  {
   "cell_type": "markdown",
   "id": "36433dec",
   "metadata": {},
   "source": [
    "# Split dataset "
   ]
  },
  {
   "cell_type": "code",
   "execution_count": 16,
   "id": "42b815e2",
   "metadata": {},
   "outputs": [],
   "source": [
    "x = df['input'].values.reshape((-1,1))\n",
    "y = df['output'].values.reshape((-1,1))"
   ]
  },
  {
   "cell_type": "markdown",
   "id": "059c0d90",
   "metadata": {},
   "source": [
    "##### the values for our response variable are continuous."
   ]
  },
  {
   "cell_type": "code",
   "execution_count": 17,
   "id": "b164ab9f",
   "metadata": {},
   "outputs": [],
   "source": [
    "lab = preprocessing.LabelEncoder()\n",
    "y_transformed = lab.fit_transform(y)"
   ]
  },
  {
   "cell_type": "markdown",
   "id": "32c04ab3",
   "metadata": {},
   "source": [
    "# Step 3 Build Logistic Regression Model"
   ]
  },
  {
   "cell_type": "code",
   "execution_count": 18,
   "id": "467d1032",
   "metadata": {},
   "outputs": [],
   "source": [
    "x_train, x_test, y_train, y_test = train_test_split(x, y_transformed, test_size = 0.2, random_state = 42)"
   ]
  },
  {
   "cell_type": "code",
   "execution_count": 19,
   "id": "24db7ec6",
   "metadata": {},
   "outputs": [
    {
     "name": "stdout",
     "output_type": "stream",
     "text": [
      "Shape of x_train: (1356, 1)\n",
      "Shape of y_train: (1356,)\n",
      "Shape of x_train: (340, 1)\n",
      "Shape of y_train: (340,)\n"
     ]
    }
   ],
   "source": [
    "print('Shape of x_train:',x_train.shape)\n",
    "print('Shape of y_train:',y_train.shape)\n",
    "print('Shape of x_train:',x_test.shape)\n",
    "print('Shape of y_train:',y_test.shape)"
   ]
  },
  {
   "cell_type": "code",
   "execution_count": 20,
   "id": "5ec9e0da",
   "metadata": {},
   "outputs": [
    {
     "data": {
      "text/plain": [
       "LogisticRegression(C=10.0)"
      ]
     },
     "execution_count": 20,
     "metadata": {},
     "output_type": "execute_result"
    }
   ],
   "source": [
    "lor = LogisticRegression(penalty='l2',C=10.0)\n",
    "lor.fit(x_train,y_train)"
   ]
  },
  {
   "cell_type": "code",
   "execution_count": 21,
   "id": "3c50255b",
   "metadata": {},
   "outputs": [
    {
     "data": {
      "text/plain": [
       "array([230, 582, 582, 837, 837, 837, 230, 230, 582, 582, 230, 837, 837,\n",
       "       230, 582, 230, 960, 583, 837, 837, 582, 960, 230, 583, 582, 230,\n",
       "       960, 582, 837, 230, 960, 230, 230, 960, 230, 230, 837, 582, 837,\n",
       "       230, 230, 960, 230, 960, 230, 230, 230, 960, 230, 583, 583, 230,\n",
       "       960, 837, 230, 230, 230, 230, 230, 960, 230, 230, 230, 837, 230,\n",
       "       960, 230, 960, 230, 837, 230, 837, 837, 583, 230, 583, 230, 837,\n",
       "       837, 230, 230, 960, 837, 230, 582, 960, 230, 960, 837, 582, 582,\n",
       "       230, 582, 230, 960, 837, 960, 837, 230, 230, 230, 230, 230, 230,\n",
       "       230, 837, 230, 230, 960, 837, 230, 837, 960, 837, 230, 582, 230,\n",
       "       230, 230, 583, 230, 960, 837, 960, 837, 960, 960, 837, 837, 230,\n",
       "       960, 960, 230, 960, 230, 230, 230, 837, 583, 582, 230, 230, 230,\n",
       "       230, 230, 582, 837, 837, 960, 230, 230, 583, 837, 230, 837, 582,\n",
       "       230, 230, 837, 582, 583, 837, 230, 837, 230, 960, 960, 837, 837,\n",
       "       837, 230, 837, 837, 837, 230, 230, 230, 582, 583, 582, 230, 230,\n",
       "       230, 230, 230, 960, 837, 960, 583, 230, 583, 582, 837, 230, 582,\n",
       "       230, 230, 230, 837, 582, 582, 230, 960, 230, 582, 230, 230, 837,\n",
       "       230, 230, 960, 230, 230, 230, 837, 230, 960, 230, 837, 583, 837,\n",
       "       230, 582, 837, 230, 230, 230, 960, 583, 230, 837, 230, 230, 582,\n",
       "       230, 230, 960, 230, 230, 583, 960, 230, 230, 582, 230, 960, 230,\n",
       "       230, 837, 230, 837, 583, 230, 960, 582, 837, 230, 960, 960, 837,\n",
       "       582, 230, 230, 230, 837, 230, 837, 230, 230, 960, 837, 583, 230,\n",
       "       960, 960, 960, 960, 960, 960, 230, 837, 230, 230, 837, 837, 582,\n",
       "       230, 960, 230, 230, 960, 230, 837, 230, 230, 837, 960, 230, 230,\n",
       "       960, 582, 230, 230, 837, 582, 960, 960, 960, 837, 960, 837, 583,\n",
       "       837, 837, 960, 582, 230, 583, 583, 582, 582, 582, 230, 230, 230,\n",
       "       582, 837, 230, 960, 230, 582, 230, 230, 230, 230, 230, 837, 230,\n",
       "       837, 837], dtype=int64)"
      ]
     },
     "execution_count": 21,
     "metadata": {},
     "output_type": "execute_result"
    }
   ],
   "source": [
    "y_pred = lor.predict(x_test)\n",
    "y_pred"
   ]
  },
  {
   "cell_type": "code",
   "execution_count": 22,
   "id": "0d974e90",
   "metadata": {},
   "outputs": [
    {
     "name": "stdout",
     "output_type": "stream",
     "text": [
      "Accuracy: 0.01764705882352941\n",
      "Precision: 0.01764705882352941\n",
      "Recall: 0.01764705882352941\n"
     ]
    }
   ],
   "source": [
    "from sklearn.metrics import accuracy_score, precision_score, recall_score, roc_auc_score\n",
    "# Printing Metrics\n",
    "print(\"Accuracy:\", accuracy_score(y_test, y_pred))\n",
    "print(\"Precision:\", precision_score(y_test, y_pred,average='micro'))\n",
    "print(\"Recall:\", recall_score(y_test, y_pred,average='micro'))\n",
    "a = accuracy_score(y_test, y_pred)"
   ]
  },
  {
   "cell_type": "markdown",
   "id": "fbf29b12",
   "metadata": {},
   "source": [
    "### step 4"
   ]
  },
  {
   "cell_type": "markdown",
   "id": "d305f36a",
   "metadata": {},
   "source": [
    "## Proper outlier detection and treatment"
   ]
  },
  {
   "cell_type": "code",
   "execution_count": 23,
   "id": "2e2233ae",
   "metadata": {},
   "outputs": [],
   "source": [
    "a = df.loc[df['input'] >= -100][:]"
   ]
  },
  {
   "cell_type": "code",
   "execution_count": 24,
   "id": "c131e276",
   "metadata": {},
   "outputs": [],
   "source": [
    "frames = [a]\n",
    "df_new = pd.concat(frames)"
   ]
  },
  {
   "cell_type": "code",
   "execution_count": 25,
   "id": "6234c6c1",
   "metadata": {},
   "outputs": [],
   "source": [
    "df_new.to_csv(\"finaldata.csv\")"
   ]
  },
  {
   "cell_type": "markdown",
   "id": "4e37b544",
   "metadata": {},
   "source": [
    "## Read the final dataset"
   ]
  },
  {
   "cell_type": "code",
   "execution_count": 65,
   "id": "c92b4ae6",
   "metadata": {},
   "outputs": [],
   "source": [
    "df2= pd.read_csv('finaldata.csv')"
   ]
  },
  {
   "cell_type": "markdown",
   "id": "e54254d9",
   "metadata": {},
   "source": [
    "## plot"
   ]
  },
  {
   "cell_type": "code",
   "execution_count": 66,
   "id": "1eaf11b5",
   "metadata": {},
   "outputs": [
    {
     "data": {
      "text/plain": [
       "<AxesSubplot:xlabel='input', ylabel='output'>"
      ]
     },
     "execution_count": 66,
     "metadata": {},
     "output_type": "execute_result"
    },
    {
     "data": {
      "image/png": "[encoded data removed]",
      "text/plain": [
       "<Figure size 640x480 with 1 Axes>"
      ]
     },
     "metadata": {},
     "output_type": "display_data"
    }
   ],
   "source": [
    "sns.scatterplot(data=df2, x=\"input\", y=\"output\")"
   ]
  },
  {
   "cell_type": "markdown",
   "id": "1839d443",
   "metadata": {},
   "source": [
    "## Feature Engineering and Hyperparameter Tuning"
   ]
  },
  {
   "cell_type": "code",
   "execution_count": 67,
   "id": "5ba2209b",
   "metadata": {},
   "outputs": [],
   "source": [
    "from sklearn.model_selection import GridSearchCV\n",
    "from sklearn.ensemble import GradientBoostingClassifier,AdaBoostClassifier"
   ]
  },
  {
   "cell_type": "code",
   "execution_count": null,
   "id": "675c033c",
   "metadata": {},
   "outputs": [],
   "source": [
    "mm = MinMaxScaler()\n",
    "# Normalizing X_train\n",
    "mm_X_train = mm.fit_transform(x_train)\n",
    "# Scaling X_test\n",
    "mm_X_test = mm. transform(x_test)\n",
    "classifier = GradientBoostingClassifier()\n",
    "parameter = {'n_estimators': [50], 'learning_rate': [0.1]}\n",
    "mm_lor = GridSearchCV(estimator=classifier, param_grid=parameter,cv=5, n_jobs=-1)\n",
    "# Performing fit on scaled_X_train and y_train\n",
    "mm_lor.fit(mm_X_train, y_train)\n",
    "# Prediction on scaled_X_test\n",
    "mm_y_pred = mm_lor.predict(mm_X_test)\n",
    "print(\"Predictions of scaled data using MinMaxScaler:\\n\", mm_y_pred)"
   ]
  },
  {
   "cell_type": "code",
   "execution_count": null,
   "id": "575d1ab4",
   "metadata": {},
   "outputs": [],
   "source": [
    "print(\" Accuracy:\", accuracy_score(y_test, mm_y_pred))\n",
    "print(\" Precision:\", precision_score(y_test, mm_y_pred,average='micro'))\n",
    "print(\" Recall:\", recall_score(y_test, mm_y_pred,average='micro'))\n",
    "b = print(\" Accuracy:\", accuracy_score(y_test, mm_y_pred)"
   ]
  },
  {
   "cell_type": "markdown",
   "id": "e7ddbae8",
   "metadata": {},
   "source": [
    "## Step 5:"
   ]
  },
  {
   "cell_type": "code",
   "execution_count": 27,
   "id": "2faa7644",
   "metadata": {},
   "outputs": [
    {
     "name": "stdout",
     "output_type": "stream",
     "text": [
      "Accuracy: 0.04411764705882353\n",
      "Precision: 0.04411764705882353\n",
      "Recall: 0.04411764705882353\n"
     ]
    }
   ],
   "source": [
    "from sklearn.svm import SVC  \n",
    "clf = SVC(kernel='linear')\n",
    "clf.fit(x_train,y_train)\n",
    "y_pred=clf.predict(x_test)\n",
    "print(\"Accuracy:\", accuracy_score(y_test, y_pred))\n",
    "print(\"Precision:\", precision_score(y_test, y_pred,average='micro'))\n",
    "print(\"Recall:\", recall_score(y_test, y_pred,average='micro'))\n",
    "c =accuracy_score(y_test, y_pred)"
   ]
  },
  {
   "cell_type": "code",
   "execution_count": 29,
   "id": "14cf8b52",
   "metadata": {},
   "outputs": [
    {
     "data": {
      "text/html": [
       "<div>\n",
       "<style scoped>\n",
       "    .dataframe tbody tr th:only-of-type {\n",
       "        vertical-align: middle;\n",
       "    }\n",
       "\n",
       "    .dataframe tbody tr th {\n",
       "        vertical-align: top;\n",
       "    }\n",
       "\n",
       "    .dataframe thead th {\n",
       "        text-align: right;\n",
       "    }\n",
       "</style>\n",
       "<table border=\"1\" class=\"dataframe\">\n",
       "  <thead>\n",
       "    <tr style=\"text-align: right;\">\n",
       "      <th></th>\n",
       "      <th>model</th>\n",
       "      <th>accuracy</th>\n",
       "    </tr>\n",
       "  </thead>\n",
       "  <tbody>\n",
       "    <tr>\n",
       "      <th>0</th>\n",
       "      <td>logistic regressiong</td>\n",
       "      <td>0.017647</td>\n",
       "    </tr>\n",
       "    <tr>\n",
       "      <th>1</th>\n",
       "      <td>GradientBoostingClassifier</td>\n",
       "      <td>0.077647</td>\n",
       "    </tr>\n",
       "    <tr>\n",
       "      <th>2</th>\n",
       "      <td>SVC</td>\n",
       "      <td>0.044118</td>\n",
       "    </tr>\n",
       "  </tbody>\n",
       "</table>\n",
       "</div>"
      ],
      "text/plain": [
       "                        model  accuracy\n",
       "0        logistic regressiong  0.017647\n",
       "1  GradientBoostingClassifier  0.077647\n",
       "2                         SVC  0.044118"
      ]
     },
     "execution_count": 29,
     "metadata": {},
     "output_type": "execute_result"
    }
   ],
   "source": [
    "# initialize list of lists\n",
    "m = [['logistic regressiong', 0.01764705882352941], ['GradientBoostingClassifier',0.07764705882352941 ], ['SVC',0.04411764705882353]]\n",
    "  \n",
    "# Create the pandas DataFrame\n",
    "m = pd.DataFrame(m, columns=['model', 'accuracy'])\n",
    "  \n",
    "# print dataframe.\n",
    "m"
   ]
  },
  {
   "cell_type": "markdown",
   "id": "992605fd",
   "metadata": {},
   "source": [
    "### Answer"
   ]
  },
  {
   "cell_type": "markdown",
   "id": "50495db0",
   "metadata": {},
   "source": [
    "## Hyperparameter Tuned model shows the best accuracy result, when compared to other two models. This because of the gridsearch method"
   ]
  },
  {
   "cell_type": "markdown",
   "id": "eee66d52",
   "metadata": {},
   "source": [
    "### step 6 Linear regression "
   ]
  },
  {
   "cell_type": "code",
   "execution_count": 33,
   "id": "4a7fa441",
   "metadata": {},
   "outputs": [
    {
     "name": "stdout",
     "output_type": "stream",
     "text": [
      "Results of Errors:\n",
      " MSE: 64620.94535430326\n",
      " R-Squared: 0.16079455618713523\n",
      "\n",
      "\n",
      "Values of Model Parameters:\n",
      " Coefficient [1.78618809]\n",
      " Intercept: 446.9593760635914\n"
     ]
    }
   ],
   "source": [
    "import sklearn.metrics as metrics\n",
    "lr = LinearRegression()\n",
    "lr.fit(x_train,y_train)\n",
    "y_pred =lr.predict(x_test)\n",
    "mse = metrics.mean_squared_error(y_test, y_pred)\n",
    "r2 = metrics.r2_score(y_test, y_pred)\n",
    "# Printing the Results\n",
    "print(\"Results of Errors:\")\n",
    "print(\" MSE:\", mse)\n",
    "print(\" R-Squared:\", r2)\n",
    "print('\\n')\n",
    "print(\"Values of Model Parameters:\")\n",
    "print(\" Coefficient\", lr.coef_)\n",
    "print(\" Intercept:\", lr.intercept_)"
   ]
  },
  {
   "cell_type": "markdown",
   "id": "2a6e9b4a",
   "metadata": {},
   "source": [
    "# Linear Regression with Scaling using StandardScaler"
   ]
  },
  {
   "cell_type": "code",
   "execution_count": 37,
   "id": "97833b29",
   "metadata": {},
   "outputs": [
    {
     "name": "stdout",
     "output_type": "stream",
     "text": [
      "Predictions of scaled data:\n",
      "\n",
      "500.33293898980435\n",
      "356.04263512219984\n",
      "386.22075981750737\n",
      "657.0746315607062\n",
      "584.8480748191224\n",
      "643.6815535463912\n",
      "433.40804051977426\n",
      "467.48869514931\n",
      "324.8272922579665\n",
      "324.32742591307283\n",
      "476.6696343487587\n",
      "669.7468549677704\n",
      "616.3342688330912\n",
      "499.95824504465685\n",
      "397.89147361700924\n",
      "416.78654707659854\n",
      "209.16362730533146\n",
      "280.40325255635435\n",
      "608.7464388300368\n",
      "641.806255746452\n",
      "397.4959185846639\n",
      "228.38948967092992\n",
      "404.0990418480106\n",
      "287.33369668077415\n",
      "397.4959185846639\n",
      "500.3300463475\n",
      "219.45854921489294\n",
      "394.46029308467917\n",
      "605.2751769156915\n",
      "566.89742866469\n",
      "244.56084554601614\n",
      "560.601206667329\n",
      "430.183557067841\n",
      "244.62295755760573\n",
      "555.2619103618844\n",
      "558.1545844067525\n",
      "586.8589619784464\n",
      "393.71714868982394\n",
      "627.1533485489733\n",
      "544.1902771177636\n",
      "512.3885067509352\n",
      "224.81711348851513\n",
      "552.194589579387\n",
      "226.6033015797225\n",
      "444.51723632955293\n",
      "502.1984004484059\n",
      "552.6417444598582\n",
      "226.59404841093482\n",
      "464.1547573759474\n",
      "278.5055174832599\n",
      "273.04419195111495\n",
      "491.51976573706315\n",
      "213.34396243392985\n",
      "651.7160672870839\n",
      "536.4580817309616\n",
      "473.827142043705\n",
      "545.5067194788926\n",
      "454.2487374875204\n",
      "530.9087829879817\n",
      "230.72305170893048\n",
      "544.0894732534606\n",
      "539.1668264330333\n",
      "513.9268424180651\n",
      "599.7852063208517\n",
      "490.59426538105333\n",
      "255.1741747736667\n",
      "437.80094362180085\n",
      "240.13625437589062\n",
      "450.7661122553621\n",
      "635.4928256844679\n",
      "527.9157227967574\n",
      "604.8790242426727\n",
      "669.2555451783088\n",
      "287.2700428494861\n",
      "509.9803112727594\n",
      "291.08057234747184\n",
      "535.1077023319561\n",
      "669.5916716608815\n",
      "594.930311829597\n",
      "458.8077534348985\n",
      "549.1413872741095\n",
      "248.61381974790953\n",
      "612.4199292805212\n",
      "430.2287439755801\n",
      "352.6026852101266\n",
      "231.9618658533447\n",
      "480.44438483812263\n",
      "220.76073177560016\n",
      "578.4126064566025\n",
      "337.00361267503075\n",
      "395.5422620885283\n",
      "524.4584861741994\n",
      "393.4466762476876\n",
      "488.83322724685524\n",
      "223.0309253973077\n",
      "597.8895278468635\n",
      "222.06776008598\n",
      "595.7026237828876\n",
      "444.5182487052393\n",
      "530.4356822429496\n",
      "483.81438671358825\n",
      "532.0414651761881\n",
      "457.86467947801736\n",
      "483.81438671358825\n",
      "445.26815022285075\n",
      "659.8734282571752\n",
      "473.09725816634386\n",
      "446.8639148093299\n",
      "227.47295440729243\n",
      "593.3568042613156\n",
      "483.81438671358825\n",
      "579.8749555924924\n",
      "223.53293088105946\n",
      "594.5580483684471\n",
      "478.4558224399661\n",
      "316.4166100202714\n",
      "507.7226381329578\n",
      "403.4359226092552\n",
      "480.2420105311735\n",
      "262.45847701273567\n",
      "520.4024767564682\n",
      "239.40872996368853\n",
      "615.3736511261142\n",
      "224.81711348851513\n",
      "651.8541824950485\n",
      "223.0309253973077\n",
      "244.66021243986165\n",
      "648.1436911046692\n",
      "635.1218783581512\n",
      "572.0452226721022\n",
      "257.26764848281323\n",
      "224.5723805347676\n",
      "512.5466670975158\n",
      "237.3342125328975\n",
      "465.9053569019073\n",
      "408.12708924137286\n",
      "467.73869389272164\n",
      "595.0273127744207\n",
      "281.4703817487848\n",
      "390.77600657399586\n",
      "572.8030432278232\n",
      "518.136567967787\n",
      "462.3801296173133\n",
      "496.3177033520401\n",
      "510.93513583590016\n",
      "390.9326059708034\n",
      "644.5713149222544\n",
      "581.3686567591294\n",
      "232.49244302318456\n",
      "540.9724056322251\n",
      "490.59426538105333\n",
      "274.2379324606941\n",
      "663.195441420979\n",
      "451.66300107006884\n",
      "583.8409198212028\n",
      "374.5255642739611\n",
      "430.183557067841\n",
      "520.3650256257267\n",
      "596.7441742259955\n",
      "358.9330741099095\n",
      "273.55352227071484\n",
      "684.4775658392199\n",
      "558.2154955462265\n",
      "621.3508697365581\n",
      "558.2670582595019\n",
      "215.53080162355437\n",
      "227.25247699472948\n",
      "608.8475530981063\n",
      "682.5746969757613\n",
      "662.4331958343283\n",
      "433.4850806304875\n",
      "643.4547119456594\n",
      "614.7693611353031\n",
      "598.9774463574544\n",
      "478.4558224399661\n",
      "429.03851139830317\n",
      "539.1862175410178\n",
      "379.503686399092\n",
      "276.99384567471793\n",
      "352.6026852101266\n",
      "538.6332322128885\n",
      "451.66300107006884\n",
      "472.54862842215135\n",
      "502.1657808850036\n",
      "480.2420105311735\n",
      "246.25137058300393\n",
      "631.9726015502274\n",
      "231.9618658533447\n",
      "270.22014014474365\n",
      "507.7226381329578\n",
      "291.51795856527224\n",
      "307.01475573859176\n",
      "583.8409198212028\n",
      "478.725934518655\n",
      "396.29117024442564\n",
      "572.8278826560329\n",
      "408.93292099686374\n",
      "486.84544128680005\n",
      "657.2951739905157\n",
      "384.7609598756756\n",
      "379.5476242505056\n",
      "423.08399161253664\n",
      "223.0309253973077\n",
      "431.84657621931274\n",
      "359.2406866181313\n",
      "444.2890012538297\n",
      "537.3549652103245\n",
      "636.0927726839684\n",
      "566.5838650064335\n",
      "573.6002090417232\n",
      "240.29092772607945\n",
      "526.682900902566\n",
      "529.3874979151328\n",
      "453.44918916127625\n",
      "640.1085945308023\n",
      "565.9790389091287\n",
      "240.8928063093817\n",
      "546.540081035525\n",
      "609.1850384054076\n",
      "267.34379200192416\n",
      "647.3085518964916\n",
      "494.6376880314384\n",
      "354.7760979632452\n",
      "687.3906087335719\n",
      "522.621819425131\n",
      "574.9099793651657\n",
      "447.14959881506763\n",
      "250.00413604417548\n",
      "297.0252815130093\n",
      "501.67626762566226\n",
      "585.2981341486011\n",
      "466.3641227730322\n",
      "460.54911666797574\n",
      "317.2633524670464\n",
      "467.73869389272164\n",
      "475.07473465955985\n",
      "249.82374676541872\n",
      "520.078795092874\n",
      "407.84968797915\n",
      "279.6046402337524\n",
      "237.3342125328975\n",
      "425.90373718734827\n",
      "512.5466670975158\n",
      "360.67269909975636\n",
      "478.725934518655\n",
      "232.6985460870835\n",
      "489.17295098721047\n",
      "506.27178681484423\n",
      "634.6441619959202\n",
      "525.1726412543288\n",
      "626.7094340101803\n",
      "299.6465385437548\n",
      "438.5309377355463\n",
      "251.60993485662613\n",
      "376.9189016501522\n",
      "642.6230184729285\n",
      "512.3933961729067\n",
      "237.32043012696693\n",
      "229.88140202377923\n",
      "650.9975331167825\n",
      "371.247904250302\n",
      "480.2420105311735\n",
      "506.5312587139689\n",
      "433.4322984973194\n",
      "578.1823490390743\n",
      "515.4312382430032\n",
      "636.0927726839684\n",
      "487.27207734943534\n",
      "401.6497345180478\n",
      "244.56084554601614\n",
      "673.0401698047503\n",
      "262.3270634038705\n",
      "464.6282963282901\n",
      "257.81423811441556\n",
      "250.00413604417548\n",
      "227.8696951827403\n",
      "246.25137058300393\n",
      "224.81711348851513\n",
      "240.8928063093817\n",
      "439.31306012508855\n",
      "646.8726998535046\n",
      "420.48254013899844\n",
      "549.9033460882621\n",
      "608.7464388300368\n",
      "675.6567742442033\n",
      "400.2849180037289\n",
      "433.4322984973194\n",
      "247.79135926004096\n",
      "490.9591390784179\n",
      "430.2287439755801\n",
      "207.93494584872101\n",
      "498.7168689528015\n",
      "670.6489537233983\n",
      "463.6178678781236\n",
      "518.2619920592972\n",
      "582.3565559528125\n",
      "233.4668300611953\n",
      "504.9937120954283\n",
      "445.4836785154638\n",
      "243.59634702389715\n",
      "397.85670150047633\n",
      "450.06080563488115\n",
      "527.0037857171232\n",
      "619.2551766708464\n",
      "313.1974241860878\n",
      "231.53446248002922\n",
      "227.72145764686286\n",
      "223.0309253973077\n",
      "614.6187224982223\n",
      "231.16609941064283\n",
      "581.7307369833525\n",
      "274.24625131021503\n",
      "664.9019196182846\n",
      "590.9856721860324\n",
      "232.12543781398514\n",
      "341.59536240003627\n",
      "544.5447818146399\n",
      "291.51795856527224\n",
      "293.68906091981864\n",
      "394.0057332578239\n",
      "310.2173158947793\n",
      "309.11784707034417\n",
      "464.1547573759474\n",
      "458.0926180286556\n",
      "444.5182487052393\n",
      "339.76374240038643\n",
      "662.4331958343283\n",
      "467.73795630421125\n",
      "242.4253817699838\n",
      "529.3874979151328\n",
      "362.3424072577015\n",
      "546.3309699058473\n",
      "554.5526217869331\n",
      "551.6895341794695\n",
      "574.502059427897\n",
      "516.1937566698848\n",
      "614.7693611353031\n",
      "457.22859457112196\n",
      "583.496463700533\n",
      "648.0645965525648\n"
     ]
    }
   ],
   "source": [
    "# Creating object for Standard Scaler\n",
    "ss = StandardScaler()\n",
    "# Normalizing X_train\n",
    "ss_X_train = ss.fit_transform(x_train)\n",
    "# Scaling X_test\n",
    "ss_X_test = ss.transform(x_test)\n",
    "\n",
    "ss_lr = LinearRegression()\n",
    "# Performing fit on scaled_X_train and y_train\n",
    "ss_lr.fit(ss_X_train, y_train)\n",
    "\n",
    "ss_y_pred = ss_lr.predict(ss_X_test)\n",
    "print(\"Predictions of scaled data:\\n\")\n",
    "for i in ss_y_pred:\n",
    "    print(i)"
   ]
  },
  {
   "cell_type": "code",
   "execution_count": null,
   "id": "4e52465d",
   "metadata": {},
   "outputs": [],
   "source": []
  }
 ],
 "metadata": {
  "kernelspec": {
   "display_name": "Python 3 (ipykernel)",
   "language": "python",
   "name": "python3"
  },
  "language_info": {
   "codemirror_mode": {
    "name": "ipython",
    "version": 3
   },
   "file_extension": ".py",
   "mimetype": "text/x-python",
   "name": "python",
   "nbconvert_exporter": "python",
   "pygments_lexer": "ipython3",
   "version": "3.9.13"
  }
 },
 "nbformat": 4,
 "nbformat_minor": 5
}
